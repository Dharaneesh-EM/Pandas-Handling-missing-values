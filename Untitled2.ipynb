{
  "nbformat": 4,
  "nbformat_minor": 0,
  "metadata": {
    "colab": {
      "provenance": [],
      "authorship_tag": "ABX9TyPik7SK2LZIRo0B+o7BaF/D",
      "include_colab_link": true
    },
    "kernelspec": {
      "name": "python3",
      "display_name": "Python 3"
    },
    "language_info": {
      "name": "python"
    }
  },
  "cells": [
    {
      "cell_type": "markdown",
      "metadata": {
        "id": "view-in-github",
        "colab_type": "text"
      },
      "source": [
        "<a href=\"https://colab.research.google.com/github/Dharaneesh-EM/Pandas-Handling-missing-values/blob/main/Untitled2.ipynb\" target=\"_parent\"><img src=\"https://colab.research.google.com/assets/colab-badge.svg\" alt=\"Open In Colab\"/></a>"
      ]
    },
    {
      "cell_type": "markdown",
      "source": [],
      "metadata": {
        "id": "MvecBagqh9z-"
      }
    },
    {
      "cell_type": "code",
      "source": [
        "import pandas as pd\n",
        "\n",
        "# Create the DataFrame\n",
        "data = {\n",
        "    'ord_no': [70001.0, None, 70002.0, 70004.0, None, 70005.0, None, 70010.0, 70003.0, 70012.0, None, 70013.0],\n",
        "    'purch_amt': [150.50, 270.65, 65.26, 110.50, 948.50, 2400.60, 5760.00, 1983.43, 2480.40, 250.45, 75.29, 3045.60],\n",
        "    'ord_date': ['2012-10-05', '2012-09-10', None, '2012-08-17', '2012-09-10', '2012-07-27', '2012-09-10', '2012-10-10', '2012-10-10', '2012-06-27', '2012-08-17', '2012-04-25'],\n",
        "    'customer_id': [3002, 3001, 3001, 3003, 3002, 3001, 3001, 3004, 3003, 3002, 3001, 3001],\n",
        "    'salesman_id': [5002.0, 5003.0, 5001.0, None, 5002.0, 5001.0, 5001.0, None, 5003.0, 5002.0, 5003.0, None]\n",
        "}\n",
        "\n",
        "df = pd.DataFrame(data)\n",
        "\n",
        "# Detect missing values\n",
        "missing_values = df.isnull()\n",
        "\n",
        "# Display the result\n",
        "print(missing_values)"
      ],
      "metadata": {
        "colab": {
          "base_uri": "https://localhost:8080/"
        },
        "id": "pp-m70f1eaNl",
        "outputId": "165f9241-5cb7-4faa-8548-52ba3c6bb900"
      },
      "execution_count": null,
      "outputs": [
        {
          "output_type": "stream",
          "name": "stdout",
          "text": [
            "    ord_no  purch_amt  ord_date  customer_id  salesman_id\n",
            "0    False      False     False        False        False\n",
            "1     True      False     False        False        False\n",
            "2    False      False      True        False        False\n",
            "3    False      False     False        False         True\n",
            "4     True      False     False        False        False\n",
            "5    False      False     False        False        False\n",
            "6     True      False     False        False        False\n",
            "7    False      False     False        False         True\n",
            "8    False      False     False        False        False\n",
            "9    False      False     False        False        False\n",
            "10    True      False     False        False        False\n",
            "11   False      False     False        False         True\n"
          ]
        }
      ]
    },
    {
      "cell_type": "markdown",
      "source": [
        "This concise line creates the DataFrame from the data dictionary, immediately applies the isnull() method to detect missing values, and prints the resulting boolean DataFrame."
      ],
      "metadata": {
        "id": "4biT3_-Qes5T"
      }
    },
    {
      "cell_type": "code",
      "source": [
        "import pandas as pd\n",
        "import numpy as np\n",
        "pd.set_option('display.max_rows', None)\n",
        "#pd.set_option('display.max_columns', None)\n",
        "df = pd.DataFrame({\n",
        "'ord_no':[70001,np.nan,70002,70004,np.nan,70005,np.nan,70010,70003,70012,np.nan,70013],\n",
        "'purch_amt':[150.5,270.65,65.26,110.5,948.5,2400.6,5760,1983.43,2480.4,250.45, 75.29,3045.6],\n",
        "'ord_date': ['2012-10-05','2012-09-10',np.nan,'2012-08-17','2012-09-10','2012-07-27','2012-09-10','2012-10-10','2012-10-10','2012-06-27','2012-08-17','2012-04-25'],\n",
        "'customer_id':[3002,3001,3001,3003,3002,3001,3001,3004,3003,3002,3001,3001],\n",
        "'salesman_id':[5002,5003,5001,np.nan,5002,5001,5001,np.nan,5003,5002,5003,np.nan]})\n",
        "print(\"Original Orders DataFrame:\")\n",
        "print(df)\n",
        "print(\"\\nIdentify the columns which have at least one missing value:\")\n",
        "print(df.isna().any())"
      ],
      "metadata": {
        "colab": {
          "base_uri": "https://localhost:8080/"
        },
        "id": "tFdu4AL6fMiA",
        "outputId": "5848d7da-6d14-4262-fa12-7142a0077188"
      },
      "execution_count": null,
      "outputs": [
        {
          "output_type": "stream",
          "name": "stdout",
          "text": [
            "Original Orders DataFrame:\n",
            "     ord_no  purch_amt    ord_date  customer_id  salesman_id\n",
            "0   70001.0     150.50  2012-10-05         3002       5002.0\n",
            "1       NaN     270.65  2012-09-10         3001       5003.0\n",
            "2   70002.0      65.26         NaN         3001       5001.0\n",
            "3   70004.0     110.50  2012-08-17         3003          NaN\n",
            "4       NaN     948.50  2012-09-10         3002       5002.0\n",
            "5   70005.0    2400.60  2012-07-27         3001       5001.0\n",
            "6       NaN    5760.00  2012-09-10         3001       5001.0\n",
            "7   70010.0    1983.43  2012-10-10         3004          NaN\n",
            "8   70003.0    2480.40  2012-10-10         3003       5003.0\n",
            "9   70012.0     250.45  2012-06-27         3002       5002.0\n",
            "10      NaN      75.29  2012-08-17         3001       5003.0\n",
            "11  70013.0    3045.60  2012-04-25         3001          NaN\n",
            "\n",
            "Identify the columns which have at least one missing value:\n",
            "ord_no          True\n",
            "purch_amt      False\n",
            "ord_date        True\n",
            "customer_id    False\n",
            "salesman_id     True\n",
            "dtype: bool\n"
          ]
        }
      ]
    },
    {
      "cell_type": "markdown",
      "source": [
        "This output shows that the columns 'ord_no', 'ord_date', and 'salesman_id' have at least one missing value (True), while 'purch_amt' and 'customer_id' do not have any missing values (False)."
      ],
      "metadata": {
        "id": "7rvztppDfetc"
      }
    },
    {
      "cell_type": "code",
      "source": [
        "import pandas as pd\n",
        "\n",
        "# Create the DataFrame\n",
        "data = {\n",
        "    'ord_no': [70001.0, None, 70002.0, 70004.0, None, 70005.0, None, 70010.0, 70003.0, 70012.0, None, 70013.0],\n",
        "    'purch_amt': [150.50, 270.65, 65.26, 110.50, 948.50, 2400.60, 5760.00, 1983.43, 2480.40, 250.45, 75.29, 3045.60],\n",
        "    'ord_date': ['2012-10-05', '2012-09-10', None, '2012-08-17', '2012-09-10', '2012-07-27', '2012-09-10', '2012-10-10', '2012-10-10', '2012-06-27', '2012-08-17', '2012-04-25'],\n",
        "    'customer_id': [3002, 3001, 3001, 3003, 3002, 3001, 3001, 3004, 3003, 3002, 3001, 3001],\n",
        "    'salesman_id': [5002.0, 5003.0, 5001.0, None, 5002.0, 5001.0, 5001.0, None, 5003.0, 5002.0, 5003.0, None]\n",
        "}\n",
        "\n",
        "df = pd.DataFrame(data)\n",
        "\n",
        "# Count the number of missing values in each column\n",
        "missing_values_count = df.isnull().sum()\n",
        "\n",
        "# Display the result\n",
        "print(missing_values_count)"
      ],
      "metadata": {
        "id": "Ep1lKujKflWR"
      },
      "execution_count": null,
      "outputs": []
    },
    {
      "cell_type": "markdown",
      "source": [
        "This method uses the isnull() function to identify missing values (NaN) in the DataFrame, and then sum() to count them for each column. The result is a Series object showing the count of missing values for each column in the DataFrame."
      ],
      "metadata": {
        "id": "iukkDL9nf91w"
      }
    },
    {
      "cell_type": "code",
      "source": [
        "import pandas as pd\n",
        "import numpy as np\n",
        "\n",
        "# Create the DataFrame\n",
        "data = {\n",
        "    'ord_no': ['70001', np.nan, '70002', '70004', np.nan, '70005', '--', '70010', '70003', '70012', np.nan, '70013'],\n",
        "    'purch_amt': [150.5, 270.65, 65.26, 110.5, 948.5, 2400.6, 5760, '?', 12.43, 2480.4, 250.45, 3045.6],\n",
        "    'ord_date': ['?', '2012-09-10', np.nan, '2012-08-17', '2012-09-10', '2012-07-27', '2012-09-10', '2012-10-10', '2012-10-10', '2012-06-27', '2012-08-17', '2012-04-25'],\n",
        "    'customer_id': ['3002', '3001', '3001', '3003', '3002', '3001', '3001', '3004', '--', '3002', '3001', '3001'],\n",
        "    'salesman_id': ['5002', '5003', '?', '5001', np.nan, '5002', '5001', '?', '5003', '5002', '5003', '--']\n",
        "}\n",
        "\n",
        "df = pd.DataFrame(data)\n",
        "\n",
        "# Function to replace non-valuable information with NaN\n",
        "def clean_data(value):\n",
        "    if value in ['?', '--', np.nan]:\n",
        "        return np.nan\n",
        "    return value\n",
        "\n",
        "# Apply the cleaning function to the DataFrame\n",
        "df_cleaned = df.applymap(clean_data)\n",
        "\n",
        "# Display the cleaned DataFrame\n",
        "print(df_cleaned)\n"
      ],
      "metadata": {
        "id": "ZF7DU-l2gFLU"
      },
      "execution_count": null,
      "outputs": []
    },
    {
      "cell_type": "markdown",
      "source": [
        "This Pandas program cleans a DataFrame by replacing non-valuable information ('?', '--', and NaN) with NaN values. It does this by:\n",
        "\n",
        "Creating a DataFrame with sample data\n",
        "\n",
        "Defining a cleaning function to replace non-valuable entries\n",
        "\n",
        "Applying the cleaning function to the entire DataFrame using applymap()\n",
        "\n",
        "Displaying the cleaned DataFrame\n",
        "\n",
        "The result is a standardized DataFrame where all missing or non-informative data is consistently represented as NaN, facilitating easier data analysis and processing."
      ],
      "metadata": {
        "id": "X6l2dSmAgTxw"
      }
    },
    {
      "cell_type": "code",
      "source": [
        "import pandas as pd\n",
        "\n",
        "# Create the DataFrame\n",
        "data = {\n",
        "    'ord_no': [70001.0, None, 70002.0, 70004.0, None, 70005.0, None, 70010.0, 70003.0, 70012.0, None, 70013.0],\n",
        "    'purch_amt': [150.50, 270.65, 65.26, 110.50, 948.50, 2400.60, 5760.00, 1983.43, 2480.40, 250.45, 75.29, 3045.60],\n",
        "    'ord_date': ['2012-10-05', '2012-09-10', None, '2012-08-17', '2012-09-10', '2012-07-27', '2012-09-10', '2012-10-10', '2012-10-10', '2012-06-27', '2012-08-17', '2012-04-25'],\n",
        "    'customer_id': [3002, 3001, 3001, 3003, 3002, 3001, 3001, 3004, 3003, 3002, 3001, 3001],\n",
        "    'salesman_id': [5002.0, 5003.0, 5001.0, None, 5002.0, 5001.0, 5001.0, None, 5003.0, 5002.0, 5003.0, None]\n",
        "}\n",
        "\n",
        "df = pd.DataFrame(data)\n",
        "\n",
        "# Drop rows where at least one element is missing\n",
        "df_cleaned = df.dropna()\n",
        "\n",
        "# Display the cleaned DataFrame\n",
        "print(df_cleaned)"
      ],
      "metadata": {
        "colab": {
          "base_uri": "https://localhost:8080/"
        },
        "id": "TlchkmR1gZgb",
        "outputId": "14fc26c5-c0ed-43d8-e712-851fbe6dfbb1"
      },
      "execution_count": null,
      "outputs": [
        {
          "output_type": "stream",
          "name": "stdout",
          "text": [
            "    ord_no  purch_amt    ord_date  customer_id  salesman_id\n",
            "0  70001.0     150.50  2012-10-05         3002       5002.0\n",
            "5  70005.0    2400.60  2012-07-27         3001       5001.0\n",
            "8  70003.0    2480.40  2012-10-10         3003       5003.0\n",
            "9  70012.0     250.45  2012-06-27         3002       5002.0\n"
          ]
        }
      ]
    },
    {
      "cell_type": "markdown",
      "source": [
        "This result shows that only 4 rows remain after dropping all rows with missing values. The dropna() function removes any row that contains at least one NaN (Not a Number) value, which represents missing data in pandas."
      ],
      "metadata": {
        "id": "ud9xmIP7g3Ta"
      }
    },
    {
      "cell_type": "code",
      "source": [
        "import pandas as pd\n",
        "\n",
        "# Define the test data\n",
        "data = {\n",
        "    'ord_no': [70001.0, None, 70002.0, 70004.0, None, 70005.0, None, 70010.0, 70003.0, 70012.0, None, 70013.0],\n",
        "    'purch_amt': [150.50, 270.65, 65.26, 110.50, 948.50, 2400.60, 5760.00, 1983.43, 2480.40, 250.45, 75.29, 3045.60],\n",
        "    'ord_date': ['2012-10-05', '2012-09-10', None, '2012-08-17', '2012-09-10', '2012-07-27', '2012-09-10', '2012-10-10', '2012-10-10', '2012-06-27', '2012-08-17', '2012-04-25'],\n",
        "    'customer_id': [3002, 3001, 3001, 3003, 3002, 3001, 3001, 3004, 3003, 3002, 3001, 3001],\n",
        "    'salesman_id': [5002.0, 5003.0, 5001.0, None, 5002.0, 5001.0, 5001.0, None, 5003.0, 5002.0, 5003.0, None]\n",
        "}\n",
        "\n",
        "# Create the DataFrame\n",
        "df = pd.DataFrame(data)\n",
        "\n",
        "# Drop columns where at least one element is missing\n",
        "df_dropped = df.dropna(axis=1)\n",
        "\n",
        "# Display the resulting DataFrame\n",
        "print(df_dropped)"
      ],
      "metadata": {
        "id": "x-HiLWHlg40A"
      },
      "execution_count": null,
      "outputs": []
    },
    {
      "cell_type": "markdown",
      "source": [
        "The dropna(axis=1) method removes all columns that contain at least one NaN value.\n",
        "\n",
        "After applying this method to the test data:\n",
        "\n",
        "Columns ord_no, ord_date, and salesman_id are dropped because they contain missing values.\n",
        "\n",
        "Only purch_amt and customer_id remain in the resulting DataFrame as they have no missing values."
      ],
      "metadata": {
        "id": "CYr5rpC4hQyY"
      }
    },
    {
      "cell_type": "code",
      "source": [
        "import pandas as pd\n",
        "\n",
        "# Create the DataFrame\n",
        "data = {\n",
        "    'ord_no': [None, None, 70002.0, 70004.0, None, 70005.0, None, 70010.0, 70003.0, 70012.0, None, 70013.0],\n",
        "    'purch_amt': [None, 270.65, 65.26, 110.50, 948.50, 2400.60, 5760.00, 1983.43, 2480.40, 250.45, 75.29, 3045.60],\n",
        "    'ord_date': [None, '2012-09-10', None, '2012-08-17', '2012-09-10', '2012-07-27', '2012-09-10', '2012-10-10', '2012-10-10', '2012-06-27', '2012-08-17', '2012-04-25'],\n",
        "    'customer_id': [None, 3001.0, 3001.0, 3003.0, 3002.0, 3001.0, 3001.0, 3004.0, 3003.0, 3002.0, 3001.0, 3001.0]\n",
        "\n",
        "\n",
        "df = pd.DataFrame(data)\n",
        "\n",
        "# Drop rows where all elements are missing\n",
        "df_cleaned = df.dropna(how='all')\n",
        "\n",
        "# Display the cleaned DataFrame\n",
        "print(df_cleaned)\n"
      ],
      "metadata": {
        "id": "iR2rBzBmhWO1"
      },
      "execution_count": null,
      "outputs": []
    },
    {
      "cell_type": "markdown",
      "source": [
        "The resulting df_cleaned DataFrame will have the rows with all missing values removed. In this case, it will remove the first row (index 0) from the original DataFrame, as it's the only row where all elements are NaN."
      ],
      "metadata": {
        "id": "jWiahPsShrfv"
      }
    },
    {
      "cell_type": "code",
      "source": [
        "import pandas as pd\n",
        "\n",
        "# Test Data\n",
        "data = {\n",
        "    'ord_no': [None, None, 70002.0, None, None, 70005.0, None, 70010.0, 70003.0, 70012.0, None, None],\n",
        "    'purch_amt': [None, 270.65, 65.26, None, 948.50, 2400.60, 5760.00, 1983.43, 2480.40, 250.45, 75.29, None],\n",
        "    'ord_date': [None, '2012-09-10', None, None, '2012-09-10', '2012-07-27', '2012-09-10', '2012-10-10', '2012-10-10', '2012-06-27', '2012-08-17', None],\n",
        "    'customer_id': [None, 3001.0, 3001.0, None, 3002.0, 3001.0, 3001.0, 3004.0, 3003.0, 3002.0, 3001.0, None]\n",
        "}\n",
        "\n",
        "df = pd.DataFrame(data)\n",
        "\n",
        "# Keep rows with at least 2 NaN values\n",
        "result = df[df.isnull().sum(axis=1) >= 2]\n",
        "print(result)"
      ],
      "metadata": {
        "id": "LtkbFWzMhs15"
      },
      "execution_count": null,
      "outputs": []
    },
    {
      "cell_type": "markdown",
      "source": [
        "This program creates a DataFrame from the given test data and then filters it to keep only the rows with at least 2 NaN values. The df.isnull().sum(axis=1) calculates the number of NaN values in each row, and >= 2 condition keeps rows where this sum is 2 or more."
      ],
      "metadata": {
        "id": "ib1ryywIiSwa"
      }
    }
  ]
}